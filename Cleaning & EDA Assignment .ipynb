{
 "cells": [
  {
   "cell_type": "markdown",
   "id": "a353727c",
   "metadata": {},
   "source": [
    "# Data Cleaning and EDA with Time Series Data\n",
    "This notebook holds Assignment 2.1 for Module 2 in AAI 530, Data Analytics and the Internet of Things. \n",
    "\n",
    "In this assignment, you will go through some basic data cleaning and exploratory analysis steps on a real IoT dataset. Much of what we'll be doing should look familiar from Module 2's lab session, but Google will be your friend on the parts that are new. \n",
    "\n",
    "## General Assignment Instructions\n",
    "\n",
    "These instructions are included in every assignment, to remind you of the coding standards for the class. Feel free to delete this cell after reading it. \n",
    "\n",
    "One sign of mature code is conforming to a style guide. We recommend the [Google Python Style Guide](https://google.github.io/styleguide/pyguide.html). If you use a different style guide, please include a cell with a link. \n",
    "\n",
    "Your code should be relatively easy-to-read, sensibly commented, and clean. Writing code is a messy process, so please be sure to edit your final submission. Remove any cells that are not needed or parts of cells that contain unnecessary code. Remove inessential `import` statements and make sure that all such statements are moved into the designated cell. \n",
    "\n",
    "When you save your notebook as a pdf, make sure that all cell output is visible (even error messages) as this will aid your instructor in grading your work.\n",
    "\n",
    "Make use of non-code cells for written commentary. These cells should be grammatical and clearly written. In some of these cells you will have questions to answer. The questions will be marked by a \"Q:\" and will have a corresponding \"A:\" spot for you. *Make sure to answer every question marked with a `Q:` for full credit.* \n"
   ]
  },
  {
   "cell_type": "code",
   "execution_count": null,
   "id": "178f3eb2",
   "metadata": {},
   "outputs": [],
   "source": [
    "import pandas as pd\n",
    "import matplotlib.pyplot as plt\n",
    "import numpy as np"
   ]
  },
  {
   "cell_type": "code",
   "execution_count": null,
   "id": "e3839c1b",
   "metadata": {},
   "outputs": [],
   "source": [
    "#use this cell to import additional libraries or define helper functions"
   ]
  },
  {
   "cell_type": "markdown",
   "id": "2319c40a",
   "metadata": {},
   "source": [
    "## Load and clean your data\n",
    "The household electric consumption dataset can be downloaded as a zip file here along with a description of the data attributes:\n",
    "https://archive.ics.uci.edu/ml/datasets/Individual+household+electric+power+consumption#\n",
    "\n",
    "First we will load this data into a pandas df and do some initial discovery"
   ]
  },
  {
   "cell_type": "code",
   "execution_count": null,
   "id": "d3c5bbc2",
   "metadata": {},
   "outputs": [],
   "source": [
    "df_raw = pd.read_csv(\"household_power_consumption.txt\", delimiter = \";\")"
   ]
  },
  {
   "cell_type": "code",
   "execution_count": null,
   "id": "dc1ae768",
   "metadata": {},
   "outputs": [],
   "source": [
    "df_raw.head()"
   ]
  },
  {
   "cell_type": "code",
   "execution_count": null,
   "id": "742b01a0",
   "metadata": {},
   "outputs": [],
   "source": [
    "df_raw.describe()"
   ]
  },
  {
   "cell_type": "markdown",
   "id": "e3b84ec0",
   "metadata": {},
   "source": [
    "Well that's not what we want to see--why is only one column showing up?\n",
    "Let's check the datatypes"
   ]
  },
  {
   "cell_type": "code",
   "execution_count": null,
   "id": "5358d198",
   "metadata": {},
   "outputs": [],
   "source": [
    "df_raw.dtypes"
   ]
  },
  {
   "cell_type": "markdown",
   "id": "74bcf8ec",
   "metadata": {},
   "source": [
    "OK, so only one of our columns came in as the correct data type. We'll get to why that is later, but first let's get everything assigned correctly so that we can use our describe function.\n",
    "\n",
    "**TODO: combine the 'Date' and 'Time' columns into a column called 'Datetime' and convert it into a datetime datatype. Heads up, the date is not in the standard format...**\n",
    "\n",
    "**TODO: use the pd.to_numeric function to convert the rest of the columns. You'll need to decide what to do with your errors for the cells that don't convert to numbers**"
   ]
  },
  {
   "cell_type": "code",
   "execution_count": null,
   "id": "72df1532",
   "metadata": {},
   "outputs": [],
   "source": [
    "#make a copy of the raw data so that we can go back and refer to it later\n",
    "df = df_raw.copy()\n"
   ]
  },
  {
   "cell_type": "code",
   "execution_count": null,
   "id": "716a0885",
   "metadata": {},
   "outputs": [],
   "source": [
    "#create your Datetime column"
   ]
  },
  {
   "cell_type": "code",
   "execution_count": null,
   "id": "90a6a9af",
   "metadata": {},
   "outputs": [],
   "source": [
    "#convert all data columns to numeric types"
   ]
  },
  {
   "cell_type": "markdown",
   "id": "c69bfaab",
   "metadata": {},
   "source": [
    "Let's use the Datetime column to turn the Date and Time columns into date and time dtypes."
   ]
  },
  {
   "cell_type": "code",
   "execution_count": null,
   "id": "93d570f8",
   "metadata": {},
   "outputs": [],
   "source": [
    "df['Date'] = df['Datetime'].dt.date\n",
    "df['Time'] = df['Datetime'].dt.time"
   ]
  },
  {
   "cell_type": "code",
   "execution_count": null,
   "id": "b54dfe16",
   "metadata": {},
   "outputs": [],
   "source": [
    "df.dtypes"
   ]
  },
  {
   "cell_type": "markdown",
   "id": "38f12e07",
   "metadata": {},
   "source": [
    "Now that we've got the data in the right datatypes, let's take a look at the describe() results"
   ]
  },
  {
   "cell_type": "code",
   "execution_count": null,
   "id": "37669898",
   "metadata": {},
   "outputs": [],
   "source": [
    "#use datetime_is_numeric = True to get statistics on the datetime column\n",
    "desc = df.describe(datetime_is_numeric = True)\n",
    "\n",
    "#force the printout not to use scientific notation\n",
    "desc[desc.columns[:-1]] = desc[desc.columns[:-1]].apply(lambda x: x.apply(\"{0:.4f}\".format))\n",
    "desc"
   ]
  },
  {
   "cell_type": "markdown",
   "id": "498671c5",
   "metadata": {},
   "source": [
    "Those row counts look a little funky. Let's visualize our missing data."
   ]
  },
  {
   "cell_type": "code",
   "execution_count": null,
   "id": "f992e37a",
   "metadata": {},
   "outputs": [],
   "source": [
    "df.isna().sum().plot.bar()"
   ]
  },
  {
   "cell_type": "code",
   "execution_count": null,
   "id": "6ea6e9c6",
   "metadata": {},
   "outputs": [],
   "source": [
    "#https://stackoverflow.com/questions/53947196/groupby-class-and-count-missing-values-in-features\n",
    "df_na = df.drop('Date', axis = 1).isna().groupby(df.Date, sort = False).sum().reset_index()\n",
    "df_na.plot('Date', df_na.columns[3:-1])"
   ]
  },
  {
   "cell_type": "markdown",
   "id": "1223a689",
   "metadata": {},
   "source": [
    "**Q: What do you notice about the pattern of missing data?**\n",
    "\n",
    "A: \n",
    "\n",
    "**Q: What method makes the most sense to you for dealing with our missing data and why? (There isn't necessarily a single right answer here)**\n",
    "\n",
    "A: \n",
    "\n",
    "**TODO:Use your preferred method to remove or impute a value for the missing data**"
   ]
  },
  {
   "cell_type": "code",
   "execution_count": null,
   "id": "1396a0ae",
   "metadata": {},
   "outputs": [],
   "source": [
    "#clean up missing data here"
   ]
  },
  {
   "cell_type": "code",
   "execution_count": null,
   "id": "57eda2b6",
   "metadata": {},
   "outputs": [],
   "source": [
    "#use datetime_is_numeric = True to get statistics on the datetime column\n",
    "desc = df.describe(datetime_is_numeric = True)\n",
    "\n",
    "#force the printout not to use scientific notation\n",
    "desc[desc.columns[:-1]] = desc[desc.columns[:-1]].apply(lambda x: x.apply(\"{0:.4f}\".format))\n",
    "desc"
   ]
  },
  {
   "cell_type": "markdown",
   "id": "74ed4068",
   "metadata": {},
   "source": [
    "## Visualizing the data\n",
    "\n",
    "We're working with time series data, so visualizing the data over time can be helpful in identifying possible patterns or metrics that should be explored with further analysis and machine learning methods.\n",
    "\n",
    "**TODO: Choose four of the variables in the dataset to visualize over time and explore methods covered in our lab session to make a line chart of the raw (untransformed) data.**\n",
    "\n",
    "**Q: Which variables did you choose and why do you think they might be interesting to compare to each other over time? Remember that data descriptions are available at the data source link at the top of the assignment.**\n",
    "\n",
    "A: "
   ]
  },
  {
   "cell_type": "code",
   "execution_count": null,
   "id": "15717132",
   "metadata": {},
   "outputs": [],
   "source": [
    "#build your line chart here\n"
   ]
  },
  {
   "cell_type": "markdown",
   "id": "5a4b1d9e",
   "metadata": {},
   "source": [
    "**Q: What do you notice about visualizing the raw data? Is this a useful visualization? Why or why not?**\n",
    "\n",
    "A:\n",
    "\n",
    "**TODO: Compute a monthly average for the data and plot that data in the same style as above. You should have one average per month and year (so June 2007 is separate from June 2008).** "
   ]
  },
  {
   "cell_type": "code",
   "execution_count": null,
   "id": "386d19aa",
   "metadata": {},
   "outputs": [],
   "source": [
    "#compute your monthly average here\n",
    "#HINT: checkout the pd.Grouper function: https://pandas.pydata.org/pandas-docs/stable/reference/api/pandas.Grouper.html?highlight=grouper\n"
   ]
  },
  {
   "cell_type": "code",
   "execution_count": null,
   "id": "891b0cae",
   "metadata": {},
   "outputs": [],
   "source": [
    "#build your linechart here\n"
   ]
  },
  {
   "cell_type": "markdown",
   "id": "ce1a733f",
   "metadata": {},
   "source": [
    "**Q: What patterns do you see in the monthly data? Do any of the variables seem to move together?**\n",
    "\n",
    "A: \n",
    "\n",
    "**TODO: Now compute a 30-day moving average on the original data and visualize it in the same style as above.**"
   ]
  },
  {
   "cell_type": "code",
   "execution_count": null,
   "id": "66af2682",
   "metadata": {},
   "outputs": [],
   "source": [
    "#compute your moving average here"
   ]
  },
  {
   "cell_type": "code",
   "execution_count": null,
   "id": "b32cc288",
   "metadata": {},
   "outputs": [],
   "source": [
    "#build your line chart on the moving average here"
   ]
  },
  {
   "cell_type": "markdown",
   "id": "0b1a91d8",
   "metadata": {},
   "source": [
    "**Q: How does the moving average compare to the monthly average? Which is a more effective way to visualize this data and why?**\n",
    "\n",
    "A: \n",
    "\n",
    "## Data Covariance and Correlation\n",
    "\n",
    "Let's take a look at the Correlation Matrix for the four global power variables in the dataset."
   ]
  },
  {
   "cell_type": "code",
   "execution_count": null,
   "id": "a8fc29e0",
   "metadata": {},
   "outputs": [],
   "source": [
    "axes = pd.plotting.scatter_matrix(df[['Global_active_power', 'Global_reactive_power', 'Voltage', 'Global_intensity']], alpha=0.5,figsize = [10,10])\n",
    "corr = df[['Global_active_power', 'Global_reactive_power', 'Voltage', 'Global_intensity']].corr(method = 'spearman').to_numpy() #nonlinear\n",
    "for i, j in zip(*plt.np.triu_indices_from(axes, k=1)):\n",
    "    axes[i, j].annotate(\"%.3f\" %corr[i,j], (0.8, 0.8), xycoords='axes fraction', ha='center', va='center')\n",
    "plt.show()"
   ]
  },
  {
   "cell_type": "markdown",
   "id": "ef2019e7",
   "metadata": {},
   "source": [
    "**Q: Describe any patterns and correlations that you see in the data. What effect does this have on how we use this data in downstream tasks?**\n",
    "\n",
    "A: "
   ]
  }
 ],
 "metadata": {
  "kernelspec": {
   "display_name": "Python 3 (ipykernel)",
   "language": "python",
   "name": "python3"
  },
  "language_info": {
   "codemirror_mode": {
    "name": "ipython",
    "version": 3
   },
   "file_extension": ".py",
   "mimetype": "text/x-python",
   "name": "python",
   "nbconvert_exporter": "python",
   "pygments_lexer": "ipython3",
   "version": "3.9.12"
  }
 },
 "nbformat": 4,
 "nbformat_minor": 5
}
